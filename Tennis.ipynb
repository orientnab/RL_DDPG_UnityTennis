{
 "cells": [
  {
   "cell_type": "markdown",
   "metadata": {},
   "source": [
    "# Collaboration and Competition\n",
    "\n",
    "---\n",
    "\n",
    "\n",
    "### 1. Start the Environment\n",
    "\n",
    "Run the next code cell to install a few packages.  This line will take a few minutes to run!"
   ]
  },
  {
   "cell_type": "code",
   "execution_count": 1,
   "metadata": {},
   "outputs": [
    {
     "name": "stdout",
     "output_type": "stream",
     "text": [
      "\u001b[31mtensorflow 1.7.1 has requirement numpy>=1.13.3, but you'll have numpy 1.12.1 which is incompatible.\u001b[0m\r\n",
      "\u001b[31mipython 6.5.0 has requirement prompt-toolkit<2.0.0,>=1.0.15, but you'll have prompt-toolkit 3.0.5 which is incompatible.\u001b[0m\r\n"
     ]
    }
   ],
   "source": [
    "!pip -q install ./python"
   ]
  },
  {
   "cell_type": "code",
   "execution_count": 2,
   "metadata": {},
   "outputs": [],
   "source": [
    "from ddpg_agent import Agent\n",
    "from collections import deque\n",
    "import matplotlib.pyplot as plt\n",
    "import numpy as np\n",
    "import random\n",
    "import torch\n",
    "from unityagents import UnityEnvironment\n",
    "\n",
    "%matplotlib inline"
   ]
  },
  {
   "cell_type": "markdown",
   "metadata": {},
   "source": [
    "Load the environment."
   ]
  },
  {
   "cell_type": "code",
   "execution_count": 3,
   "metadata": {},
   "outputs": [
    {
     "name": "stderr",
     "output_type": "stream",
     "text": [
      "INFO:unityagents:\n",
      "'Academy' started successfully!\n",
      "Unity Academy name: Academy\n",
      "        Number of Brains: 1\n",
      "        Number of External Brains : 1\n",
      "        Lesson number : 0\n",
      "        Reset Parameters :\n",
      "\t\t\n",
      "Unity brain name: TennisBrain\n",
      "        Number of Visual Observations (per agent): 0\n",
      "        Vector Observation space type: continuous\n",
      "        Vector Observation space size (per agent): 8\n",
      "        Number of stacked Vector Observation: 3\n",
      "        Vector Action space type: continuous\n",
      "        Vector Action space size (per agent): 2\n",
      "        Vector Action descriptions: , \n"
     ]
    }
   ],
   "source": [
    "env = UnityEnvironment(file_name=\"/data/Tennis_Linux_NoVis/Tennis\")"
   ]
  },
  {
   "cell_type": "markdown",
   "metadata": {},
   "source": [
    "Environments contain **_brains_** which are responsible for deciding the actions of their associated agents. Here we check for the first brain available, and set it as the default brain we will be controlling from Python."
   ]
  },
  {
   "cell_type": "code",
   "execution_count": 4,
   "metadata": {},
   "outputs": [],
   "source": [
    "# get the default brain\n",
    "brain_name = env.brain_names[0]\n",
    "brain = env.brains[brain_name]"
   ]
  },
  {
   "cell_type": "markdown",
   "metadata": {},
   "source": [
    "### 2. Examine the State and Action Spaces\n",
    "\n",
    "Run the code cell below to print some information about the environment."
   ]
  },
  {
   "cell_type": "code",
   "execution_count": 5,
   "metadata": {},
   "outputs": [
    {
     "name": "stdout",
     "output_type": "stream",
     "text": [
      "Number of agents: 2\n",
      "Size of each action: 2\n",
      "There are 2 agents. Each observes a state with length: 24\n",
      "The state for the first agent looks like: [ 0.          0.          0.          0.          0.          0.          0.\n",
      "  0.          0.          0.          0.          0.          0.          0.\n",
      "  0.          0.         -6.65278625 -1.5        -0.          0.\n",
      "  6.83172083  6.         -0.          0.        ]\n"
     ]
    }
   ],
   "source": [
    "# reset the environment\n",
    "env_info = env.reset(train_mode=True)[brain_name]\n",
    "\n",
    "# number of agents \n",
    "num_agents = len(env_info.agents)\n",
    "print('Number of agents:', num_agents)\n",
    "\n",
    "# size of each action\n",
    "action_size = brain.vector_action_space_size\n",
    "print('Size of each action:', action_size)\n",
    "\n",
    "# examine the state space \n",
    "states = env_info.vector_observations\n",
    "state_size = states.shape[1]\n",
    "print('There are {} agents. Each observes a state with length: {}'.format(states.shape[0], state_size))\n",
    "print('The state for the first agent looks like:', states[0])"
   ]
  },
  {
   "cell_type": "raw",
   "metadata": {},
   "source": [
    "### 3. Train the model\n",
    "\n",
    "A few **important notes**:\n",
    "- When training the environment, set `train_mode=True`, so that the line for resetting the environment looks like the following:\n",
    "```python\n",
    "env_info = env.reset(train_mode=True)[brain_name]\n",
    "```"
   ]
  },
  {
   "cell_type": "code",
   "execution_count": 8,
   "metadata": {},
   "outputs": [],
   "source": [
    "def ddpg(n_episodes=1000, max_t=1000, solved_score=0.5, consec_episodes=100, print_every=10, train_mode=True,\n",
    "         actor_path='actor_ckpt.pth', critic_path='critic_ckpt.pth'):\n",
    "    \"\"\"Deep Deterministic Policy Gradient (DDPG)\n",
    "    \n",
    "    Params\n",
    "    ======\n",
    "        n_episodes (int)      : maximum number of training episodes\n",
    "        max_t (int)           : maximum number of timesteps per episode\n",
    "        train_mode (bool)     : if 'True' set environment to training mode\n",
    "        solved_score (float)  : min avg score over consecutive episodes\n",
    "        consec_episodes (int) : number of consecutive episodes used to calculate score\n",
    "        print_every (int)     : interval to display results\n",
    "        actor_path (str)      : directory to store actor network weights\n",
    "        critic_path (str)     : directory to store critic network weights\n",
    "\n",
    "    \"\"\"\n",
    "    instant_scores = [] \n",
    "    scores_window = deque(maxlen=consec_episodes)  # mean scores from most recent episodes\n",
    "    moving_avgs = []                               # list of moving averages\n",
    "    \n",
    "    for i_episode in range(1, n_episodes+1):\n",
    "        env_info = env.reset(train_mode=train_mode)[brain_name] # reset environment\n",
    "        states = env_info.vector_observations                   # get current state for each agent      \n",
    "        scores = np.zeros(num_agents)                           # initialize score for each agent\n",
    "        agent.reset()\n",
    "        for t in range(max_t):\n",
    "            actions = agent.act(states, add_noise=True)         # select an action\n",
    "            env_info = env.step(actions)[brain_name]            # send actions to environment\n",
    "            next_states = env_info.vector_observations          # get next state\n",
    "            rewards = env_info.rewards                          # get reward\n",
    "            dones = env_info.local_done                         # see if episode has finished\n",
    "            for state, action, reward, next_state, done in zip(states, actions, rewards, next_states, dones):\n",
    "                agent.step(state, action, reward, next_state, done, t)             \n",
    "            states = next_states\n",
    "            scores += rewards        \n",
    "            if np.any(dones):                                   # exit loop when episode ends\n",
    "                break\n",
    "\n",
    "        instant_scores.append(np.max(scores))           # save mean score for the episode\n",
    "        scores_window.append(instant_scores[-1])         # save mean score to window\n",
    "        moving_avgs.append(np.mean(scores_window))    # save moving average\n",
    "                \n",
    "        if i_episode % print_every == 0:\n",
    "            print('\\rEpisode {} \\tInst. Reward: {:.3f}\\tAvg. Reward: {:.3f}'.format(\\\n",
    "                  i_episode, instant_scores[-1], moving_avgs[-1]))\n",
    "                  \n",
    "        if moving_avgs[-1] >= solved_score and i_episode >= consec_episodes:\n",
    "            print('\\nEnvironment SOLVED in {} episodes!\\tMoving Average ={:.3f} over last {} episodes'.format(\\\n",
    "                                    i_episode-consec_episodes, moving_avgs[-1], consec_episodes))            \n",
    "            if train_mode:\n",
    "                torch.save(agent.actor_local.state_dict(), actor_path)\n",
    "                torch.save(agent.critic_local.state_dict(), critic_path) \n",
    "            break\n",
    "            \n",
    "    return instant_scores, moving_avgs"
   ]
  },
  {
   "cell_type": "code",
   "execution_count": 9,
   "metadata": {},
   "outputs": [
    {
     "name": "stdout",
     "output_type": "stream",
     "text": [
      "Episode 10 \tInst. Reward: 0.100\tAvg. Reward: 0.010\n",
      "Episode 20 \tInst. Reward: 0.000\tAvg. Reward: 0.010\n",
      "Episode 30 \tInst. Reward: 0.100\tAvg. Reward: 0.019\n",
      "Episode 40 \tInst. Reward: 0.000\tAvg. Reward: 0.019\n",
      "Episode 50 \tInst. Reward: 0.100\tAvg. Reward: 0.026\n",
      "Episode 60 \tInst. Reward: 0.000\tAvg. Reward: 0.034\n",
      "Episode 70 \tInst. Reward: 0.100\tAvg. Reward: 0.039\n",
      "Episode 80 \tInst. Reward: 0.000\tAvg. Reward: 0.037\n",
      "Episode 90 \tInst. Reward: 0.000\tAvg. Reward: 0.037\n",
      "Episode 100 \tInst. Reward: 0.090\tAvg. Reward: 0.041\n",
      "Episode 110 \tInst. Reward: 0.100\tAvg. Reward: 0.046\n",
      "Episode 120 \tInst. Reward: 0.090\tAvg. Reward: 0.051\n",
      "Episode 130 \tInst. Reward: 0.100\tAvg. Reward: 0.057\n",
      "Episode 140 \tInst. Reward: 0.000\tAvg. Reward: 0.068\n",
      "Episode 150 \tInst. Reward: 0.090\tAvg. Reward: 0.073\n",
      "Episode 160 \tInst. Reward: 0.100\tAvg. Reward: 0.076\n",
      "Episode 170 \tInst. Reward: 0.100\tAvg. Reward: 0.079\n",
      "Episode 180 \tInst. Reward: 0.000\tAvg. Reward: 0.085\n",
      "Episode 190 \tInst. Reward: 0.100\tAvg. Reward: 0.094\n",
      "Episode 200 \tInst. Reward: 0.600\tAvg. Reward: 0.104\n",
      "Episode 210 \tInst. Reward: 0.200\tAvg. Reward: 0.115\n",
      "Episode 220 \tInst. Reward: 0.100\tAvg. Reward: 0.118\n",
      "Episode 230 \tInst. Reward: 0.100\tAvg. Reward: 0.129\n",
      "Episode 240 \tInst. Reward: 0.400\tAvg. Reward: 0.131\n",
      "Episode 250 \tInst. Reward: 0.100\tAvg. Reward: 0.144\n",
      "Episode 260 \tInst. Reward: 0.100\tAvg. Reward: 0.163\n",
      "Episode 270 \tInst. Reward: 0.100\tAvg. Reward: 0.165\n",
      "Episode 280 \tInst. Reward: 0.300\tAvg. Reward: 0.174\n",
      "Episode 290 \tInst. Reward: 0.300\tAvg. Reward: 0.194\n",
      "Episode 300 \tInst. Reward: 0.100\tAvg. Reward: 0.194\n",
      "Episode 310 \tInst. Reward: 0.200\tAvg. Reward: 0.189\n",
      "Episode 320 \tInst. Reward: 0.300\tAvg. Reward: 0.212\n",
      "Episode 330 \tInst. Reward: 0.100\tAvg. Reward: 0.246\n",
      "Episode 340 \tInst. Reward: 1.600\tAvg. Reward: 0.299\n",
      "Episode 350 \tInst. Reward: 0.600\tAvg. Reward: 0.333\n",
      "Episode 360 \tInst. Reward: 0.100\tAvg. Reward: 0.346\n",
      "Episode 370 \tInst. Reward: 1.300\tAvg. Reward: 0.403\n",
      "Episode 380 \tInst. Reward: 0.400\tAvg. Reward: 0.455\n",
      "Episode 390 \tInst. Reward: 0.400\tAvg. Reward: 0.473\n",
      "Episode 400 \tInst. Reward: 0.200\tAvg. Reward: 0.477\n",
      "\n",
      "Environment SOLVED in 308 episodes!\tMoving Average =0.500 over last 100 episodes\n"
     ]
    }
   ],
   "source": [
    "from workspace_utils import active_session\n",
    "\n",
    "# run the training loop\n",
    "with active_session():\n",
    "    agent = Agent(state_size=state_size, action_size=action_size, random_seed=1)\n",
    "    scores, avgs = ddpg()"
   ]
  },
  {
   "cell_type": "code",
   "execution_count": 10,
   "metadata": {},
   "outputs": [
    {
     "data": {
      "image/png": "[encoded data removed]",
      "text/plain": [
       "<matplotlib.figure.Figure at 0x7fe4fe6886a0>"
      ]
     },
     "metadata": {
      "needs_background": "light"
     },
     "output_type": "display_data"
    }
   ],
   "source": [
    "# plot the scores\n",
    "fig = plt.figure()\n",
    "ax = fig.add_subplot(111)\n",
    "plt.plot(np.arange(len(scores)), scores, label='DDPG')\n",
    "plt.plot(np.arange(len(scores)), avgs, c='r', label='moving avg')\n",
    "plt.ylabel('Score')\n",
    "plt.xlabel('Episode #')\n",
    "plt.legend(loc='upper left');\n",
    "plt.show()"
   ]
  }
 ],
 "metadata": {
  "kernelspec": {
   "display_name": "Python 3",
   "language": "python",
   "name": "python3"
  },
  "language_info": {
   "codemirror_mode": {
    "name": "ipython",
    "version": 3
   },
   "file_extension": ".py",
   "mimetype": "text/x-python",
   "name": "python",
   "nbconvert_exporter": "python",
   "pygments_lexer": "ipython3",
   "version": "3.6.3"
  }
 },
 "nbformat": 4,
 "nbformat_minor": 2
}
